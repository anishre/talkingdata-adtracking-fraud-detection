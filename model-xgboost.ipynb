{
 "cells": [
  {
   "cell_type": "code",
   "execution_count": 10,
   "metadata": {},
   "outputs": [
    {
     "name": "stdout",
     "output_type": "stream",
     "text": [
      "[63.52215099334717] Finished to load data\n"
     ]
    }
   ],
   "source": [
    "import gc\n",
    "import time\n",
    "import numpy as np\n",
    "import pandas as pd\n",
    "import sklearn\n",
    "import matplotlib.pyplot as plt\n",
    "from sklearn.model_selection import train_test_split, GridSearchCV\n",
    "\n",
    "import xgboost as xgb\n",
    "from xgboost import plot_importance\n",
    "\n",
    "\n",
    "# Change this for validation with 10% from train\n",
    "is_valid = True\n",
    "\n",
    "path = 'competition_files/'\n",
    "\n",
    "\n",
    "def timeFeatures(df):\n",
    "    # Make some new features with click_time column\n",
    "    df['datetime'] = pd.to_datetime(df['click_time'])\n",
    "    df['dow'] = df['datetime'].dt.dayofweek\n",
    "    df[\"doy\"] = df[\"datetime\"].dt.dayofyear\n",
    "    #df[\"dteom\"]    = df[\"datetime\"].dt.daysinmonth - df[\"datetime\"].dt.day\n",
    "    df.drop(['click_time', 'datetime'], axis=1, inplace=True)\n",
    "    return df\n",
    "\n",
    "\n",
    "start_time = time.time()\n",
    "\n",
    "train_columns = ['ip', 'app', 'device', 'os',\n",
    "                 'channel', 'click_time', 'is_attributed']\n",
    "test_columns = ['ip', 'app', 'device', 'os',\n",
    "                'channel', 'click_time', 'click_id']\n",
    "dtypes = {\n",
    "    'ip': 'uint32',\n",
    "    'app': 'uint16',\n",
    "    'device': 'uint16',\n",
    "    'os': 'uint16',\n",
    "    'channel': 'uint16',\n",
    "    'is_attributed': 'uint8',\n",
    "    'click_id': 'uint32'\n",
    "}\n",
    "\n",
    "# Read the last lines because they are more impacting in training than the starting lines\n",
    "# train = pd.read_csv(path+\"train_sample.csv\", skiprows=range(1,\n",
    "#                                                            123903891), nrows=61000000, usecols=train_columns, dtype=dtypes)\n",
    "train = pd.read_csv(path+\"train_sample.csv\", nrows=100001,\n",
    "                    usecols=train_columns, dtype=dtypes)\n",
    "test = pd.read_csv(path+\"test_supplement.csv\",\n",
    "                   usecols=test_columns, dtype=dtypes)\n",
    "\n",
    "print('[{}] Finished to load data'.format(time.time() - start_time))"
   ]
  },
  {
   "cell_type": "code",
   "execution_count": 11,
   "metadata": {},
   "outputs": [
    {
     "name": "stdout",
     "output_type": "stream",
     "text": [
      "[124.79931282997131] Start to generate time features\n"
     ]
    },
    {
     "data": {
      "text/plain": [
       "21"
      ]
     },
     "execution_count": 11,
     "metadata": {},
     "output_type": "execute_result"
    }
   ],
   "source": [
    "# Drop the IP and the columns from target\n",
    "y = train['is_attributed']\n",
    "train.drop(['is_attributed'], axis=1, inplace=True)\n",
    "\n",
    "# Drop IP and ID from test rows\n",
    "sub = pd.DataFrame()\n",
    "#sub['click_id'] = test['click_id'].astype('int')\n",
    "test.drop(['click_id'], axis=1, inplace=True)\n",
    "gc.collect()\n",
    "\n",
    "nrow_train = train.shape[0]\n",
    "merge = pd.concat([train, test])\n",
    "\n",
    "del train, test\n",
    "gc.collect()\n",
    "\n",
    "# Count the number of clicks by ip\n",
    "ip_count = merge.groupby(['ip'])['channel'].count().reset_index()\n",
    "ip_count.columns = ['ip', 'clicks_by_ip']\n",
    "merge = pd.merge(merge, ip_count, on='ip', how='left', sort=False)\n",
    "merge['clicks_by_ip'] = merge['clicks_by_ip'].astype('uint16')\n",
    "merge.drop('ip', axis=1, inplace=True)\n",
    "\n",
    "train = merge[:nrow_train]\n",
    "test = merge[nrow_train:]\n",
    "\n",
    "del test, merge\n",
    "gc.collect()\n",
    "\n",
    "print('[{}] Start to generate time features'.format(time.time() - start_time))\n",
    "\n",
    "train = timeFeatures(train)\n",
    "gc.collect()"
   ]
  },
  {
   "cell_type": "code",
   "execution_count": 12,
   "metadata": {},
   "outputs": [
    {
     "name": "stdout",
     "output_type": "stream",
     "text": [
      "[125.33565187454224] Start XGBoost Training\n",
      "[0]\ttrain-auc:0.5\tvalid-auc:0.5\n",
      "Multiple eval metrics have been passed: 'valid-auc' will be used for early stopping.\n",
      "\n",
      "Will train until valid-auc hasn't improved in 25 rounds.\n",
      "[5]\ttrain-auc:0.5\tvalid-auc:0.5\n",
      "[10]\ttrain-auc:0.5\tvalid-auc:0.5\n",
      "[15]\ttrain-auc:0.5\tvalid-auc:0.5\n",
      "[20]\ttrain-auc:0.5\tvalid-auc:0.5\n",
      "[25]\ttrain-auc:0.5\tvalid-auc:0.5\n",
      "Stopping. Best iteration:\n",
      "[0]\ttrain-auc:0.5\tvalid-auc:0.5\n",
      "\n",
      "[125.83409595489502] Finish XGBoost Training\n"
     ]
    }
   ],
   "source": [
    "print('[{}] Start XGBoost Training'.format(time.time() - start_time))\n",
    "\n",
    "# Set the params(this params from Pranav kernel) for xgboost model\n",
    "params = {'eta': 0.3,\n",
    "          'tree_method': \"auto\",\n",
    "          'grow_policy': \"lossguide\",\n",
    "          'max_leaves': 1400,\n",
    "          'max_depth': 0,\n",
    "          'subsample': 0.9,\n",
    "          'colsample_bytree': 0.7,\n",
    "          'colsample_bylevel': 0.7,\n",
    "          'min_child_weight': 0,\n",
    "          'alpha': 4,\n",
    "          'objective': 'binary:logistic',\n",
    "          'scale_pos_weight': 9,\n",
    "          'eval_metric': 'auc',\n",
    "          'nthread': 8,\n",
    "          'random_state': 99,\n",
    "          'silent': True}\n",
    "\n",
    "params = {'eta': 0.3,\n",
    "          'tree_method': \"auto\",\n",
    "          'grow_policy': \"lossguide\",\n",
    "          'max_leaves': 1400,\n",
    "          'max_depth': 0,\n",
    "          'subsample': 0.9,\n",
    "          'colsample_bytree': 0.7,\n",
    "          'colsample_bylevel': 0.7,\n",
    "          'min_child_weight': 0,\n",
    "          'alpha': 4,\n",
    "          'objective': 'binary:logistic',\n",
    "          'scale_pos_weight': 9,\n",
    "          'eval_metric': 'auc',\n",
    "          'nthread': 8,\n",
    "          'random_state': 99,\n",
    "          'silent': True}\n",
    "\n",
    "#model = xgb.XGBClassifier(params)\n",
    "\n",
    "if (is_valid == True):\n",
    "    # Get 10% of train dataset to use as validation\n",
    "    x1, x2, y1, y2 = train_test_split(train, y, test_size=0.1, random_state=99)\n",
    "    dtrain = xgb.DMatrix(x1, y1)\n",
    "    dvalid = xgb.DMatrix(x2, y2)\n",
    "    del x1, y1, x2, y2\n",
    "    gc.collect()\n",
    "    watchlist = [(dtrain, 'train'), (dvalid, 'valid')]\n",
    "    model = xgb.train(params, dtrain, 200, watchlist,\n",
    "                      maximize=True, early_stopping_rounds=25, verbose_eval=5)\n",
    "    \n",
    "    del dvalid\n",
    "else:\n",
    "    dtrain = xgb.DMatrix(train, y)\n",
    "    #del train, y\n",
    "    gc.collect()\n",
    "    watchlist = [(dtrain, 'train')]\n",
    "    model = xgb.train(params, dtrain, 30, watchlist,\n",
    "                      maximize=True, verbose_eval=1)\n",
    "    #model.fit(train, y, xgb_model=model)\n",
    "\n",
    "#del dtrain\n",
    "gc.collect()\n",
    "\n",
    "print('[{}] Finish XGBoost Training'.format(time.time() - start_time))"
   ]
  },
  {
   "cell_type": "code",
   "execution_count": 13,
   "metadata": {},
   "outputs": [
    {
     "ename": "ValueError",
     "evalue": "Booster.get_score() results in empty",
     "output_type": "error",
     "traceback": [
      "\u001b[0;31m---------------------------------------------------------------------------\u001b[0m",
      "\u001b[0;31mValueError\u001b[0m                                Traceback (most recent call last)",
      "\u001b[0;32m<ipython-input-13-cebaa2a4418c>\u001b[0m in \u001b[0;36m<module>\u001b[0;34m()\u001b[0m\n\u001b[1;32m      1\u001b[0m \u001b[0;31m# Plot the feature importance from xgboost\u001b[0m\u001b[0;34m\u001b[0m\u001b[0;34m\u001b[0m\u001b[0m\n\u001b[0;32m----> 2\u001b[0;31m \u001b[0mplot_importance\u001b[0m\u001b[0;34m(\u001b[0m\u001b[0mmodel\u001b[0m\u001b[0;34m)\u001b[0m\u001b[0;34m\u001b[0m\u001b[0m\n\u001b[0m\u001b[1;32m      3\u001b[0m \u001b[0mplt\u001b[0m\u001b[0;34m.\u001b[0m\u001b[0mgcf\u001b[0m\u001b[0;34m(\u001b[0m\u001b[0;34m)\u001b[0m\u001b[0;34m.\u001b[0m\u001b[0msavefig\u001b[0m\u001b[0;34m(\u001b[0m\u001b[0;34m'feature_importance_xgb.png'\u001b[0m\u001b[0;34m)\u001b[0m\u001b[0;34m\u001b[0m\u001b[0m\n\u001b[1;32m      4\u001b[0m \u001b[0;34m\u001b[0m\u001b[0m\n\u001b[1;32m      5\u001b[0m \u001b[0;31m# Load the test for predict\u001b[0m\u001b[0;34m\u001b[0m\u001b[0;34m\u001b[0m\u001b[0m\n",
      "\u001b[0;32m~/Dev_Workspace/anaconda3/lib/python3.6/site-packages/xgboost/plotting.py\u001b[0m in \u001b[0;36mplot_importance\u001b[0;34m(booster, ax, height, xlim, ylim, title, xlabel, ylabel, importance_type, max_num_features, grid, show_values, **kwargs)\u001b[0m\n\u001b[1;32m     72\u001b[0m \u001b[0;34m\u001b[0m\u001b[0m\n\u001b[1;32m     73\u001b[0m     \u001b[0;32mif\u001b[0m \u001b[0mlen\u001b[0m\u001b[0;34m(\u001b[0m\u001b[0mimportance\u001b[0m\u001b[0;34m)\u001b[0m \u001b[0;34m==\u001b[0m \u001b[0;36m0\u001b[0m\u001b[0;34m:\u001b[0m\u001b[0;34m\u001b[0m\u001b[0m\n\u001b[0;32m---> 74\u001b[0;31m         \u001b[0;32mraise\u001b[0m \u001b[0mValueError\u001b[0m\u001b[0;34m(\u001b[0m\u001b[0;34m'Booster.get_score() results in empty'\u001b[0m\u001b[0;34m)\u001b[0m\u001b[0;34m\u001b[0m\u001b[0m\n\u001b[0m\u001b[1;32m     75\u001b[0m \u001b[0;34m\u001b[0m\u001b[0m\n\u001b[1;32m     76\u001b[0m     \u001b[0mtuples\u001b[0m \u001b[0;34m=\u001b[0m \u001b[0;34m[\u001b[0m\u001b[0;34m(\u001b[0m\u001b[0mk\u001b[0m\u001b[0;34m,\u001b[0m \u001b[0mimportance\u001b[0m\u001b[0;34m[\u001b[0m\u001b[0mk\u001b[0m\u001b[0;34m]\u001b[0m\u001b[0;34m)\u001b[0m \u001b[0;32mfor\u001b[0m \u001b[0mk\u001b[0m \u001b[0;32min\u001b[0m \u001b[0mimportance\u001b[0m\u001b[0;34m]\u001b[0m\u001b[0;34m\u001b[0m\u001b[0m\n",
      "\u001b[0;31mValueError\u001b[0m: Booster.get_score() results in empty"
     ]
    }
   ],
   "source": [
    "# Plot the feature importance from xgboost\n",
    "plot_importance(model)\n",
    "plt.gcf().savefig('feature_importance_xgb.png')\n",
    "\n",
    "# Load the test for predict\n",
    "test = pd.read_csv(path+\"test.csv\", usecols=test_columns, dtype=dtypes)\n",
    "test = pd.merge(test, ip_count, on='ip', how='left', sort=False)\n",
    "del ip_count\n",
    "gc.collect()\n",
    "\n",
    "sub['click_id'] = test['click_id'].astype('int')\n",
    "\n",
    "test['clicks_by_ip'] = test['clicks_by_ip'].astype('uint16')\n",
    "test = timeFeatures(test)\n",
    "test.drop(['click_id', 'ip'], axis=1, inplace=True)\n",
    "dtest = xgb.DMatrix(test)\n",
    "del test\n",
    "gc.collect()\n",
    "\n",
    "# Save the predictions\n",
    "sub['is_attributed'] = model.predict(dtest, ntree_limit=model.best_ntree_limit)\n",
    "sub.to_csv('xgb_sub.csv', float_format='%.8f', index=False)"
   ]
  },
  {
   "cell_type": "code",
   "execution_count": null,
   "metadata": {},
   "outputs": [],
   "source": []
  },
  {
   "cell_type": "code",
   "execution_count": null,
   "metadata": {},
   "outputs": [],
   "source": []
  },
  {
   "cell_type": "code",
   "execution_count": null,
   "metadata": {},
   "outputs": [],
   "source": []
  }
 ],
 "metadata": {
  "kernelspec": {
   "display_name": "Python 3",
   "language": "python",
   "name": "python3"
  },
  "language_info": {
   "codemirror_mode": {
    "name": "ipython",
    "version": 3
   },
   "file_extension": ".py",
   "mimetype": "text/x-python",
   "name": "python",
   "nbconvert_exporter": "python",
   "pygments_lexer": "ipython3",
   "version": "3.6.4"
  }
 },
 "nbformat": 4,
 "nbformat_minor": 2
}
